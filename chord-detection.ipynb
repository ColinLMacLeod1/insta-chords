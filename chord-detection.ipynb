{
 "cells": [
  {
   "cell_type": "code",
   "execution_count": 17,
   "metadata": {},
   "outputs": [],
   "source": [
    "import matplotlib.pyplot as plt\n",
    "from scipy.io import wavfile as wav\n",
    "from scipy.fftpack import fft, fftfreq\n",
    "import numpy as np\n",
    "import pandas as pd\n",
    "rate, data = wav.read('audio/a-440-sine.wav')"
   ]
  },
  {
   "cell_type": "code",
   "execution_count": 13,
   "metadata": {},
   "outputs": [],
   "source": [
    "def fft4Dummies(data, rate):\n",
    "    \n",
    "    fft_out = fft(data)\n",
    "    freq_vector = fftfreq(len(fft_out), 1.0/rate)\n",
    "    fft_trim = fft_out[range(len(fft_out)//2)]\n",
    "    freq_vector_trim = freq_vector[range(len(fft_out)//2)]\n",
    "    \n",
    "    return freq_vector_trim, fft_trim"
   ]
  },
  {
   "cell_type": "code",
   "execution_count": 14,
   "metadata": {},
   "outputs": [
    {
     "data": {
      "image/png": "[encoded data removed]",
      "text/plain": [
       "<Figure size 432x288 with 1 Axes>"
      ]
     },
     "metadata": {},
     "output_type": "display_data"
    }
   ],
   "source": [
    "freq_vector_trim, fft_trim = fft4Dummies(data, rate)\n",
    "plt.plot(freq_vector_trim,np.abs(fft_trim))\n",
    "# plt.ylim(0, 2000) \n",
    "plt.xlim(0,600)\n",
    "plt.show()"
   ]
  },
  {
   "cell_type": "code",
   "execution_count": 21,
   "metadata": {},
   "outputs": [],
   "source": [
    "freq_mapping_df = pd.read_csv('Note-Freq Mapping.csv')\n",
    "freq_mapping = freq_mapping_df.iloc[:, 1:4].values\n",
    "note_mapping = freq_mapping_df.iloc[:, 0:3].values\n",
    "frequencies = freq_mapping[:,-1]"
   ]
  },
  {
   "cell_type": "code",
   "execution_count": 22,
   "metadata": {},
   "outputs": [
    {
     "name": "stdout",
     "output_type": "stream",
     "text": [
      "[   16.351    17.324    18.354    19.445    20.601    21.827    23.124\n",
      "    24.499    25.956    27.5      29.135    30.868    32.703    34.648\n",
      "    36.708    38.891    41.203    43.654    46.249    48.999    51.913\n",
      "    55.       58.27     61.735    65.406    69.296    73.416    77.782\n",
      "    82.407    87.307    92.499    97.999   103.826   110.      116.541\n",
      "   123.471   130.813   138.591   146.832   155.563   164.814   174.614\n",
      "   184.997   195.998   207.652   220.      233.082   246.942   261.626\n",
      "   277.183   293.665   311.127   329.628   349.228   369.994   391.995\n",
      "   415.305   440.      466.164   493.883   523.251   554.365   587.33\n",
      "   622.254   659.255   698.456   739.989   783.991   830.609   880.\n",
      "   932.328   987.767  1046.502  1108.731  1174.659  1244.508  1318.51\n",
      "  1396.913  1479.978  1567.982  1661.219  1760.     1864.655  1975.533\n",
      "  2093.005  2217.461  2349.318  2489.016  2637.021  2793.826  2959.955\n",
      "  3135.964  3322.438  3520.     3729.31   3951.066  4186.009  4434.922\n",
      "  4698.636  4978.032  5274.042  5587.652  5919.91   6271.928  6644.876\n",
      "  7040.     7458.62   7902.132  8372.018  8869.844  9397.272  9956.064\n",
      " 10548.084 11175.304 11839.82  12543.856 13289.752 14080.    14917.24\n",
      " 15804.264]\n"
     ]
    }
   ],
   "source": []
  },
  {
   "cell_type": "code",
   "execution_count": 24,
   "metadata": {},
   "outputs": [],
   "source": [
    "def findNearest(array, value):\n",
    "    array = np.asarray(array)\n",
    "    idx = (np.abs(array - value)).argmin()\n",
    "    return array[idx], idx"
   ]
  },
  {
   "cell_type": "code",
   "execution_count": 25,
   "metadata": {},
   "outputs": [],
   "source": [
    "def sumAmps(fft_amps,fft_freqs, note_freq_array):\n",
    "    \n",
    "    bucketed_array = np.zeros([len(note_freq_array),5])\n",
    "    bucketed_array[:,0] = note_freq_array\n",
    "    \n",
    "    # first column - notes\n",
    "    # second column - amplitude sum\n",
    "    # third column - number in bucket\n",
    "    # fourth column - average\n",
    "    # fifth column - max\n",
    "        \n",
    "    \n",
    "    for i in range(0,len(fft_freqs)):\n",
    "        \n",
    "        # find nearest freq\n",
    "        nearest, index = findNearest(note_freq_array,fft_freqs[i])\n",
    "        # increase amplitude sum of nearest freq\n",
    "        bucketed_array[index,1] = bucketed_array[index,1] + fft_amps[i]\n",
    "        # increase count by 1\n",
    "        bucketed_array[index,2] = bucketed_array[index,2] + 1\n",
    "        # assign as max if applicable\n",
    "        if (fft_amps[i] > bucketed_array[index,-1]): # if the current amplitude being looked at is bigger than the highest amplitude for that bucket\n",
    "            bucketed_array[index,-1] = fft_amps[i]\n",
    "     \n",
    "    # find average by dividing total sum of bucket by number in bucket\n",
    "    bucketed_array[:,3] = bucketed_array[:,1]/bucketed_array[:,2] \n",
    "    \n",
    "    return bucketed_array\n",
    "    "
   ]
  },
  {
   "cell_type": "code",
   "execution_count": 36,
   "metadata": {},
   "outputs": [
    {
     "name": "stderr",
     "output_type": "stream",
     "text": [
      "C:\\Users\\Kip\\AppData\\Local\\Continuum\\anaconda3\\lib\\site-packages\\ipykernel_launcher.py:18: ComplexWarning: Casting complex values to real discards the imaginary part\n",
      "C:\\Users\\Kip\\AppData\\Local\\Continuum\\anaconda3\\lib\\site-packages\\ipykernel_launcher.py:23: ComplexWarning: Casting complex values to real discards the imaginary part\n"
     ]
    },
    {
     "ename": "TypeError",
     "evalue": "unsupported format string passed to numpy.ndarray.__format__",
     "output_type": "error",
     "traceback": [
      "\u001b[1;31m---------------------------------------------------------------------------\u001b[0m",
      "\u001b[1;31mTypeError\u001b[0m                                 Traceback (most recent call last)",
      "\u001b[1;32m<ipython-input-36-5658a01f3c72>\u001b[0m in \u001b[0;36m<module>\u001b[1;34m()\u001b[0m\n\u001b[0;32m      1\u001b[0m \u001b[0mbucketed_array\u001b[0m \u001b[1;33m=\u001b[0m \u001b[0msumAmps\u001b[0m\u001b[1;33m(\u001b[0m\u001b[0mfft_trim\u001b[0m\u001b[1;33m,\u001b[0m\u001b[0mfreq_vector_trim\u001b[0m\u001b[1;33m,\u001b[0m \u001b[0mfrequencies\u001b[0m\u001b[1;33m)\u001b[0m\u001b[1;33m\u001b[0m\u001b[0m\n\u001b[1;32m----> 2\u001b[1;33m \u001b[0mprint\u001b[0m\u001b[1;33m(\u001b[0m\u001b[1;34m'{0:f}'\u001b[0m\u001b[1;33m.\u001b[0m\u001b[0mformat\u001b[0m\u001b[1;33m(\u001b[0m\u001b[0mbucketed_array\u001b[0m\u001b[1;33m[\u001b[0m\u001b[1;33m:\u001b[0m\u001b[1;36m5\u001b[0m\u001b[1;33m,\u001b[0m\u001b[1;33m:\u001b[0m\u001b[1;33m]\u001b[0m\u001b[1;33m)\u001b[0m\u001b[1;33m)\u001b[0m\u001b[1;33m\u001b[0m\u001b[0m\n\u001b[0m",
      "\u001b[1;31mTypeError\u001b[0m: unsupported format string passed to numpy.ndarray.__format__"
     ]
    }
   ],
   "source": [
    "bucketed_array = sumAmps(fft_trim,freq_vector_trim, frequencies)\n",
    "print('%f' %(bucketed_array[:5,:]))"
   ]
  }
 ],
 "metadata": {
  "kernelspec": {
   "display_name": "Python 3",
   "language": "python",
   "name": "python3"
  },
  "language_info": {
   "codemirror_mode": {
    "name": "ipython",
    "version": 3
   },
   "file_extension": ".py",
   "mimetype": "text/x-python",
   "name": "python",
   "nbconvert_exporter": "python",
   "pygments_lexer": "ipython3",
   "version": "3.6.5"
  }
 },
 "nbformat": 4,
 "nbformat_minor": 2
}
